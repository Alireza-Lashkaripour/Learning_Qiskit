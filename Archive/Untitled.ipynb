{
 "cells": [
  {
   "cell_type": "code",
   "execution_count": 1,
   "id": "28fa39fb-bc00-44ef-aa2c-582fb04d8309",
   "metadata": {},
   "outputs": [
    {
     "ename": "SyntaxError",
     "evalue": "invalid syntax (2732369214.py, line 1)",
     "output_type": "error",
     "traceback": [
      "\u001b[0;36m  Cell \u001b[0;32mIn[1], line 1\u001b[0;36m\u001b[0m\n\u001b[0;31m    pip install qiskit\u001b[0m\n\u001b[0m        ^\u001b[0m\n\u001b[0;31mSyntaxError\u001b[0m\u001b[0;31m:\u001b[0m invalid syntax\n"
     ]
    }
   ],
   "source": [
    "pip install qiskit \n",
    "pip install numpy\n"
   ]
  },
  {
   "cell_type": "code",
   "execution_count": 3,
   "id": "2f917f76-93d8-4e6c-9eb2-e0852b3c0e4d",
   "metadata": {},
   "outputs": [
    {
     "name": "stdout",
     "output_type": "stream",
     "text": [
      "        ┌───┐   ┌───┐┌───┐┌──────────┐┌───┐   ┌───┐    ┌─────────┐┌───┐»\n",
      "q_0: ───┤ X ├───┤ H ├┤ X ├┤ Rz(-0.1) ├┤ X ├───┤ H ├────┤ Rx(π/2) ├┤ X ├»\n",
      "     ┌──┴───┴──┐└───┘└─┬─┘└──────────┘└─┬─┘┌──┴───┴───┐└──┬───┬──┘└─┬─┘»\n",
      "q_1: ┤ Rx(π/2) ├───────■────────────────■──┤ Rx(-π/2) ├───┤ H ├─────■──»\n",
      "     └─────────┘                           └──────────┘   └───┘        »\n",
      "«     ┌─────────┐┌───┐┌──────────┐\n",
      "«q_0: ┤ Rz(0.1) ├┤ X ├┤ Rx(-π/2) ├\n",
      "«     └─────────┘└─┬─┘└──┬───┬───┘\n",
      "«q_1: ─────────────■─────┤ H ├────\n",
      "«                        └───┘    \n"
     ]
    }
   ],
   "source": [
    "from qiskit import QuantumCircuit, QuantumRegister\n",
    "import numpy as np\n",
    "\n",
    "# Define the number of qubits\n",
    "n_qubits = 2\n",
    "qr = QuantumRegister(n_qubits, 'q')\n",
    "circuit = QuantumCircuit(qr)\n",
    "\n",
    "# Step 1: Prepare the reference state |10>\n",
    "# Qubit 0 is occupied (|1>), qubit 1 is virtual (|0>)\n",
    "circuit.x(0)\n",
    "\n",
    "# Step 2: Define the variational parameter theta\n",
    "theta = 0.1\n",
    "\n",
    "# Step 3: Apply e^{theta/2 * Y1 X0}\n",
    "# Basis change: X0 -> Z0 with H, Y1 -> Z1 with Rx(pi/2)\n",
    "circuit.h(0)\n",
    "circuit.rx(np.pi/2, 1)\n",
    "# Implement e^{i (theta/2) Z1 Z0} = CNOT_{1,0} Rz(-2 * theta/2) CNOT_{1,0}\n",
    "circuit.cx(1, 0)\n",
    "circuit.rz(-theta, 0)  # -2 * (theta/2) = -theta\n",
    "circuit.cx(1, 0)\n",
    "# Inverse basis change\n",
    "circuit.rx(-np.pi/2, 1)\n",
    "circuit.h(0)\n",
    "\n",
    "# Step 4: Apply e^{-theta/2 * X1 Y0}\n",
    "# Basis change: X1 -> Z1 with H, Y0 -> Z0 with Rx(pi/2)\n",
    "circuit.h(1)\n",
    "circuit.rx(np.pi/2, 0)\n",
    "# Implement e^{i (-theta/2) Z1 Z0} = CNOT_{1,0} Rz(-2 * (-theta/2)) CNOT_{1,0}\n",
    "circuit.cx(1, 0)\n",
    "circuit.rz(theta, 0)  # -2 * (-theta/2) = theta\n",
    "circuit.cx(1, 0)\n",
    "# Inverse basis change\n",
    "circuit.rx(-np.pi/2, 0)\n",
    "circuit.h(1)\n",
    "\n",
    "# Display the circuit\n",
    "print(circuit)"
   ]
  },
  {
   "cell_type": "code",
   "execution_count": 5,
   "id": "65188a4b-2afa-46e5-9543-c01545616466",
   "metadata": {},
   "outputs": [
    {
     "ename": "ModuleNotFoundError",
     "evalue": "No module named 'prepare_MPS'",
     "output_type": "error",
     "traceback": [
      "\u001b[0;31m---------------------------------------------------------------------------\u001b[0m",
      "\u001b[0;31mModuleNotFoundError\u001b[0m                       Traceback (most recent call last)",
      "Cell \u001b[0;32mIn[5], line 1\u001b[0m\n\u001b[0;32m----> 1\u001b[0m \u001b[38;5;28;01mimport\u001b[39;00m \u001b[38;5;21;01mprepare_MPS\u001b[39;00m \u001b[38;5;28;01mas\u001b[39;00m \u001b[38;5;21;01mmps\u001b[39;00m\n\u001b[1;32m      2\u001b[0m \u001b[38;5;28;01mimport\u001b[39;00m \u001b[38;5;21;01mnumpy\u001b[39;00m \u001b[38;5;28;01mas\u001b[39;00m \u001b[38;5;21;01mnp\u001b[39;00m\n\u001b[1;32m      3\u001b[0m \u001b[38;5;28;01mfrom\u001b[39;00m \u001b[38;5;21;01mqiskit\u001b[39;00m \u001b[38;5;28;01mimport\u001b[39;00m BasicAer, execute\n",
      "\u001b[0;31mModuleNotFoundError\u001b[0m: No module named 'prepare_MPS'"
     ]
    }
   ],
   "source": [
    "import prepare_MPS as mps\n",
    "import numpy as np\n",
    "from qiskit import BasicAer, execute\n",
    "\n",
    "#Create Random MPS with size 4, bond dimension 4 and physical dimension 2 (qubits)\n",
    "N=4\n",
    "d=2\n",
    "chi=4\n",
    "phi_final=np.random.rand(chi)\n",
    "phi_initial=np.random.rand(chi)\n",
    "A=mps.create_random_tensors(N,chi,d)\n",
    "\n",
    "#Create the circuit. The 'reg' register corresponds to the 'MPS' register in the picture above\n",
    "qc, reg = mps.MPS_to_circuit(A, phi_initial, phi_final)\n",
    "\n",
    "#Run the circuit on the statevector simulator\n",
    "backend = BasicAer.get_backend(\"statevector_simulator\")\n",
    "job = execute(qc, backend)\n",
    "result = job.result()\n",
    "psi_out=result.get_statevector()\n",
    "\n",
    "#Contract out the ancilla with the known state\n",
    "psi_out=psi_out.reshape(d**N,chi)\n",
    "exp=psi_out.dot(phi_final)\n",
    "\n",
    "#Prepare the MPS classically\n",
    "thr,_=mps.create_statevector(A,phi_initial,phi_final,qiskit_ordering=True)\n",
    "\n",
    "#Compare the resulting vectors (fixing phase and normalization)\n",
    "exp=mps.normalize(mps.extract_phase(exp))\n",
    "thr=mps.normalize(mps.extract_phase(thr))\n",
    "\n",
    "print(\"The MPS is \\n {}\".format(thr))\n",
    "print(\"The statevector produced by the circuit is \\n {}\".format(exp))\n",
    "\n"
   ]
  },
  {
   "cell_type": "code",
   "execution_count": 5,
   "id": "4545a93e-1362-4036-970f-cac80bcd28db",
   "metadata": {},
   "outputs": [
    {
     "ename": "ModuleNotFoundError",
     "evalue": "No module named 'prepare_MPS'",
     "output_type": "error",
     "traceback": [
      "\u001b[0;31m---------------------------------------------------------------------------\u001b[0m",
      "\u001b[0;31mModuleNotFoundError\u001b[0m                       Traceback (most recent call last)",
      "Cell \u001b[0;32mIn[5], line 1\u001b[0m\n\u001b[0;32m----> 1\u001b[0m \u001b[38;5;28;01mimport\u001b[39;00m \u001b[38;5;21;01mprepare_MPS\u001b[39;00m \u001b[38;5;28;01mas\u001b[39;00m \u001b[38;5;21;01mmps\u001b[39;00m\n\u001b[1;32m      2\u001b[0m \u001b[38;5;28;01mimport\u001b[39;00m \u001b[38;5;21;01mnumpy\u001b[39;00m \u001b[38;5;28;01mas\u001b[39;00m \u001b[38;5;21;01mnp\u001b[39;00m\n\u001b[1;32m      3\u001b[0m \u001b[38;5;28;01mfrom\u001b[39;00m \u001b[38;5;21;01mqiskit\u001b[39;00m \u001b[38;5;28;01mimport\u001b[39;00m BasicAer, execute\n",
      "\u001b[0;31mModuleNotFoundError\u001b[0m: No module named 'prepare_MPS'"
     ]
    }
   ],
   "source": [
    "import prepare_MPS as mps\n",
    "import numpy as np\n",
    "from qiskit import BasicAer, execute\n",
    "\n",
    "#Create Random MPS with size 4, bond dimension 4 and physical dimension 2 (qubits)\n",
    "N=4\n",
    "d=2\n",
    "chi=4\n",
    "phi_final=np.random.rand(chi)\n",
    "phi_initial=np.random.rand(chi)\n",
    "A=mps.create_random_tensors(N,chi,d)\n",
    "\n",
    "#Create the circuit. The 'reg' register corresponds to the 'MPS' register in the picture above\n",
    "qc, reg = mps.MPS_to_circuit(A, phi_initial, phi_final)\n",
    "\n",
    "#Run the circuit on the statevector simulator\n",
    "backend = BasicAer.get_backend(\"statevector_simulator\")\n",
    "job = execute(qc, backend)\n",
    "result = job.result()\n",
    "psi_out=result.get_statevector()\n",
    "\n",
    "#Contract out the ancilla with the known state\n",
    "psi_out=psi_out.reshape(d**N,chi)\n",
    "exp=psi_out.dot(phi_final)\n",
    "\n",
    "#Prepare the MPS classically\n",
    "thr,_=mps.create_statevector(A,phi_initial,phi_final,qiskit_ordering=True)\n",
    "\n",
    "#Compare the resulting vectors (fixing phase and normalization)\n",
    "exp=mps.normalize(mps.extract_phase(exp))\n",
    "thr=mps.normalize(mps.extract_phase(thr))\n",
    "\n",
    "print(\"The MPS is \\n {}\".format(thr))\n",
    "print(\"The statevector produced by the circuit is \\n {}\".format(exp))\n",
    "\n"
   ]
  },
  {
   "cell_type": "code",
   "execution_count": 7,
   "id": "54ac5b02-966c-43c7-86a4-75080843f2b1",
   "metadata": {},
   "outputs": [
    {
     "ename": "NameError",
     "evalue": "name 'd' is not defined",
     "output_type": "error",
     "traceback": [
      "\u001b[0;31m---------------------------------------------------------------------------\u001b[0m",
      "\u001b[0;31mNameError\u001b[0m                                 Traceback (most recent call last)",
      "Cell \u001b[0;32mIn[7], line 9\u001b[0m\n\u001b[1;32m      7\u001b[0m phi_initial\u001b[38;5;241m=\u001b[39mnp\u001b[38;5;241m.\u001b[39marray([\u001b[38;5;241m1\u001b[39m,\u001b[38;5;241m1\u001b[39m])\n\u001b[1;32m      8\u001b[0m phi_final\u001b[38;5;241m=\u001b[39mnp\u001b[38;5;241m.\u001b[39marray([\u001b[38;5;241m1\u001b[39m,\u001b[38;5;241m1\u001b[39m])\n\u001b[0;32m----> 9\u001b[0m T\u001b[38;5;241m=\u001b[39mnp\u001b[38;5;241m.\u001b[39mzeros((d,chi,chi))\n\u001b[1;32m     10\u001b[0m T[\u001b[38;5;241m0\u001b[39m,\u001b[38;5;241m0\u001b[39m,\u001b[38;5;241m0\u001b[39m]\u001b[38;5;241m=\u001b[39m\u001b[38;5;241m1\u001b[39m\n\u001b[1;32m     11\u001b[0m T[\u001b[38;5;241m1\u001b[39m,\u001b[38;5;241m1\u001b[39m,\u001b[38;5;241m1\u001b[39m]\u001b[38;5;241m=\u001b[39m\u001b[38;5;241m1\u001b[39m\n",
      "\u001b[0;31mNameError\u001b[0m: name 'd' is not defined"
     ]
    }
   ],
   "source": [
    "from qiskit import ClassicalRegister\n",
    "\n",
    "N=5\n",
    "chi=2\n",
    "\n",
    "#The following is the standard representation of a GHZ state in terms of MPS\n",
    "phi_initial=np.array([1,1])\n",
    "phi_final=np.array([1,1])\n",
    "T=np.zeros((d,chi,chi))\n",
    "T[0,0,0]=1\n",
    "T[1,1,1]=1\n",
    "A=[]\n",
    "for _ in range(N):\n",
    "    A.append(T)\n",
    "    \n",
    "\n",
    "#Create the circuit, store the relevant wavefunction is register 'reg' and measure\n",
    "qc, reg = mps.MPS_to_circuit(A, phi_initial, phi_final)\n",
    "creg=ClassicalRegister(N)\n",
    "qc.add_register(creg)\n",
    "qc.measure(reg,creg)\n",
    "\n",
    "#Run on a simulator\n",
    "backend = BasicAer.get_backend(\"qasm_simulator\")\n",
    "job = execute(qc, backend)\n",
    "result = job.result()\n",
    "counts = result.get_counts(qc)\n",
    "print(\"\\nTotal counts are:\",counts)"
   ]
  },
  {
   "cell_type": "code",
   "execution_count": 9,
   "id": "4daffdab-fd12-439a-8e99-0e693fa40b11",
   "metadata": {},
   "outputs": [
    {
     "ename": "NameError",
     "evalue": "name 'QuantumCirtcuit' is not defined",
     "output_type": "error",
     "traceback": [
      "\u001b[0;31m---------------------------------------------------------------------------\u001b[0m",
      "\u001b[0;31mNameError\u001b[0m                                 Traceback (most recent call last)",
      "Cell \u001b[0;32mIn[9], line 3\u001b[0m\n\u001b[1;32m      1\u001b[0m \u001b[38;5;28;01mfrom\u001b[39;00m \u001b[38;5;21;01mqiskit\u001b[39;00m \u001b[38;5;28;01mimport\u001b[39;00m QuantumCircuit \n\u001b[0;32m----> 3\u001b[0m qc \u001b[38;5;241m=\u001b[39m QuantumCirtcuit(\u001b[38;5;241m2\u001b[39m)\n\u001b[1;32m      5\u001b[0m qc\u001b[38;5;241m.\u001b[39mh(\u001b[38;5;241m0\u001b[39m)\n\u001b[1;32m      6\u001b[0m qc\u001b[38;5;241m.\u001b[39mcx(\u001b[38;5;241m0\u001b[39m, \u001b[38;5;241m1\u001b[39m)\n",
      "\u001b[0;31mNameError\u001b[0m: name 'QuantumCirtcuit' is not defined"
     ]
    }
   ],
   "source": [
    "from qiskit import QuantumCircuit \n",
    "\n",
    "qc = QuantumCirtcuit(2)\n",
    "\n",
    "qc.h(0)\n",
    "qc.cx(0, 1)\n",
    "\n",
    "qc.draw(\"mpl\")"
   ]
  },
  {
   "cell_type": "code",
   "execution_count": null,
   "id": "95d78e18-9bdb-4c7f-8e3f-58165e568a75",
   "metadata": {},
   "outputs": [],
   "source": []
  }
 ],
 "metadata": {
  "kernelspec": {
   "display_name": "Python [conda env:base] *",
   "language": "python",
   "name": "conda-base-py"
  },
  "language_info": {
   "codemirror_mode": {
    "name": "ipython",
    "version": 3
   },
   "file_extension": ".py",
   "mimetype": "text/x-python",
   "name": "python",
   "nbconvert_exporter": "python",
   "pygments_lexer": "ipython3",
   "version": "3.12.7"
  }
 },
 "nbformat": 4,
 "nbformat_minor": 5
}
